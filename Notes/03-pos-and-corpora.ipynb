{
 "cells": [
  {
   "cell_type": "markdown",
   "metadata": {},
   "source": [
    "# Lecture 3 \n",
    "\n",
    "Computing in Context: Computational Linguistics\n",
    "\n",
    "- [X] Parts of speech \n",
    "- [X] Brown corpus\n",
    "- [ ] An easy categorizer\n",
    "- [X] Distinctive words of categories\n",
    "- [ ] Intro. Esperanto\n"
   ]
  },
  {
   "cell_type": "code",
   "execution_count": 33,
   "metadata": {},
   "outputs": [],
   "source": [
    "import nltk\n",
    "from nltk.book import *\n",
    "import pandas as pd"
   ]
  },
  {
   "cell_type": "markdown",
   "metadata": {},
   "source": [
    "- Nouns: people, places, things\n",
    "- Adjectives: words that describe something\n",
    "- Verbs: actions\n",
    "- Adverbs: -ly\n",
    "- Prepositions: around, by, of, under\n",
    "- Conjunctions: and, but\n"
   ]
  },
  {
   "cell_type": "code",
   "execution_count": 5,
   "metadata": {},
   "outputs": [],
   "source": [
    "foxTokens = nltk.word_tokenize(\"The quick brown fox jumped over the lazy dogs.\")"
   ]
  },
  {
   "cell_type": "code",
   "execution_count": 8,
   "metadata": {},
   "outputs": [],
   "source": [
    "foxTags = nltk.pos_tag(foxTokens)"
   ]
  },
  {
   "cell_type": "code",
   "execution_count": 10,
   "metadata": {},
   "outputs": [
    {
     "data": {
      "text/plain": [
       "[('brown', 'NN'), ('fox', 'NN')]"
      ]
     },
     "execution_count": 10,
     "metadata": {},
     "output_type": "execute_result"
    }
   ],
   "source": [
    "[pair for pair in foxTags if pair[1] == 'NN'] "
   ]
  },
  {
   "cell_type": "code",
   "execution_count": 13,
   "metadata": {},
   "outputs": [
    {
     "data": {
      "text/plain": [
       "[('The', 'DT'),\n",
       " ('frumpiest', 'JJS'),\n",
       " ('twiglip', 'NN'),\n",
       " ('scathewed', 'VBN'),\n",
       " ('in', 'IN'),\n",
       " ('the', 'DT'),\n",
       " ('greep', 'NN'),\n",
       " ('.', '.')]"
      ]
     },
     "execution_count": 13,
     "metadata": {},
     "output_type": "execute_result"
    }
   ],
   "source": [
    "nltk.pos_tag(nltk.word_tokenize(\"The frumpiest twiglip scathewed in the greep.\"))"
   ]
  },
  {
   "cell_type": "code",
   "execution_count": 14,
   "metadata": {},
   "outputs": [],
   "source": [
    "mobyNouns = [pair for pair in nltk.pos_tag(text1) if pair[1] == 'NN']  "
   ]
  },
  {
   "cell_type": "code",
   "execution_count": 15,
   "metadata": {
    "collapsed": true,
    "jupyter": {
     "outputs_hidden": true
    }
   },
   "outputs": [
    {
     "data": {
      "text/plain": [
       "[('pale', 'NN'),\n",
       " ('threadbare', 'NN'),\n",
       " ('coat', 'NN'),\n",
       " ('heart', 'NN'),\n",
       " ('body', 'NN'),\n",
       " ('brain', 'NN'),\n",
       " ('queer', 'NN'),\n",
       " ('handkerchief', 'NN'),\n",
       " ('gay', 'NN'),\n",
       " ('world', 'NN'),\n",
       " ('mortality', 'NN'),\n",
       " ('hand', 'NN'),\n",
       " ('school', 'NN'),\n",
       " ('name', 'NN'),\n",
       " ('fish', 'NN'),\n",
       " ('tongue', 'NN'),\n",
       " ('ignorance', 'NN'),\n",
       " ('letter', 'NN'),\n",
       " ('signification', 'NN'),\n",
       " ('word', 'NN'),\n",
       " ('animal', 'NN'),\n",
       " ('roundness', 'NN'),\n",
       " ('rolling', 'NN'),\n",
       " ('IAN', 'NN'),\n",
       " ('NUEE', 'NN'),\n",
       " ('NUEE', 'NN'),\n",
       " (').', 'NN'),\n",
       " ('burrower', 'NN'),\n",
       " ('grub', 'NN'),\n",
       " ('worm', 'NN'),\n",
       " ('devil', 'NN'),\n",
       " ('Sub', 'NN'),\n",
       " ('earth', 'NN'),\n",
       " ('book', 'NN'),\n",
       " ('whatsoever', 'NN'),\n",
       " ('profane', 'NN'),\n",
       " ('case', 'NN'),\n",
       " ('higgledy', 'NN'),\n",
       " ('piggledy', 'NN'),\n",
       " ('cetology', 'NN'),\n",
       " ('ancient', 'NN'),\n",
       " ('bird', 'NN'),\n",
       " ('eye', 'NN'),\n",
       " ('view', 'NN'),\n",
       " ('sung', 'NN'),\n",
       " ('thee', 'NN'),\n",
       " ('devil', 'NN'),\n",
       " ('Sub', 'NN'),\n",
       " ('commentator', 'NN'),\n",
       " ('hopeless', 'NN'),\n",
       " ('sallow', 'NN'),\n",
       " ('tribe', 'NN'),\n",
       " ('wine', 'NN'),\n",
       " ('world', 'NN'),\n",
       " ('devilish', 'NN'),\n",
       " ('sadness', 'NN'),\n",
       " ('Subs', 'NN'),\n",
       " ('world', 'NN'),\n",
       " ('thankless', 'NN'),\n",
       " ('ye', 'NN'),\n",
       " ('hie', 'NN'),\n",
       " ('royal', 'NN'),\n",
       " ('mast', 'NN'),\n",
       " ('strike', 'NN'),\n",
       " ('\"', 'NN'),\n",
       " ('\"', 'NN'),\n",
       " ('path', 'NN'),\n",
       " ('deep', 'NN'),\n",
       " ('\"', 'NN'),\n",
       " ('fish', 'NN'),\n",
       " ('hast', 'NN'),\n",
       " ('\"', 'NN'),\n",
       " ('day', 'NN'),\n",
       " ('sore', 'NN'),\n",
       " ('sword', 'NN'),\n",
       " ('piercing', 'NN'),\n",
       " ('serpent', 'NN'),\n",
       " ('serpent', 'NN'),\n",
       " ('dragon', 'NN'),\n",
       " ('sea', 'NN'),\n",
       " ('thing', 'NN'),\n",
       " ('soever', 'NN'),\n",
       " ('cometh', 'NN'),\n",
       " ('chaos', 'NN'),\n",
       " ('monster', 'NN'),\n",
       " ('mouth', 'NN'),\n",
       " ('boat', 'NN'),\n",
       " ('stone', 'NN'),\n",
       " ('swallow', 'NN'),\n",
       " ('bottomless', 'NN'),\n",
       " ('gulf', 'NN'),\n",
       " ('paunch', 'NN'),\n",
       " ('length', 'NN'),\n",
       " ('land', 'NN'),\n",
       " ('sea', 'NN'),\n",
       " ('sunrise', 'NN'),\n",
       " ('sea', 'NN'),\n",
       " ('size', 'NN'),\n",
       " ('sea', 'NN'),\n",
       " ('.\"', 'NN')]"
      ]
     },
     "execution_count": 15,
     "metadata": {},
     "output_type": "execute_result"
    }
   ],
   "source": [
    "mobyNouns[:100]"
   ]
  },
  {
   "cell_type": "code",
   "execution_count": 16,
   "metadata": {},
   "outputs": [],
   "source": [
    "mobyTags = nltk.pos_tag(text1)"
   ]
  },
  {
   "cell_type": "code",
   "execution_count": 18,
   "metadata": {},
   "outputs": [],
   "source": [
    "mobyAdjs = [pair for pair in mobyTags if pair[1] == 'JJ']"
   ]
  },
  {
   "cell_type": "code",
   "execution_count": 19,
   "metadata": {},
   "outputs": [
    {
     "data": {
      "text/plain": [
       "[('[', 'JJ'),\n",
       " ('Late', 'JJ'),\n",
       " ('old', 'JJ'),\n",
       " ('old', 'JJ'),\n",
       " ('whale', 'JJ'),\n",
       " ('true', 'JJ'),\n",
       " ('Librarian', 'JJ'),\n",
       " ('mere', 'JJ'),\n",
       " ('poor', 'JJ'),\n",
       " ('long', 'JJ'),\n",
       " ('random', 'JJ'),\n",
       " ('whale', 'JJ'),\n",
       " ('authentic', 'JJ'),\n",
       " ('veritable', 'JJ'),\n",
       " ('gospel', 'JJ'),\n",
       " ('valuable', 'JJ'),\n",
       " ('entertaining', 'JJ'),\n",
       " ('s', 'JJ'),\n",
       " ('many', 'JJ'),\n",
       " ('own', 'JJ'),\n",
       " ('fare', 'JJ'),\n",
       " ('poor', 'JJ'),\n",
       " ('rosy', 'JJ'),\n",
       " ('strong', 'JJ'),\n",
       " ('poor', 'JJ'),\n",
       " ('convivial', 'JJ'),\n",
       " ('full', 'JJ'),\n",
       " ('empty', 'JJ'),\n",
       " ('unpleasant', 'JJ'),\n",
       " ('much', 'JJ'),\n",
       " ('much', 'JJ'),\n",
       " ('long', 'JJ'),\n",
       " ('pampered', 'JJ'),\n",
       " ('ye', 'JJ'),\n",
       " ('unsplinterable', 'JJ'),\n",
       " ('great', 'JJ'),\n",
       " ('hoary', 'JJ'),\n",
       " ('great', 'JJ'),\n",
       " ('great', 'JJ'),\n",
       " ('strong', 'JJ'),\n",
       " ('s', 'JJ'),\n",
       " ('foul', 'JJ'),\n",
       " ('great', 'JJ'),\n",
       " ('Indian', 'JJ'),\n",
       " ('great', 'JJ'),\n",
       " ('many', 'JJ'),\n",
       " ('other', 'JJ'),\n",
       " ('former', 'JJ'),\n",
       " ('monstrous', 'JJ'),\n",
       " ('open', 'JJ')]"
      ]
     },
     "execution_count": 19,
     "metadata": {},
     "output_type": "execute_result"
    }
   ],
   "source": [
    "mobyAdjs[:50]"
   ]
  },
  {
   "cell_type": "code",
   "execution_count": 26,
   "metadata": {},
   "outputs": [],
   "source": [
    "brownCategories = nltk.corpus.brown.categories()"
   ]
  },
  {
   "cell_type": "markdown",
   "metadata": {},
   "source": [
    "Goal: create a dictionary where the category label is the key, \n",
    "and the value is the list of words. \n",
    "\n",
    "{\"adventure\": ['adventure', 'words', 'here'...] ... }"
   ]
  },
  {
   "cell_type": "code",
   "execution_count": 29,
   "metadata": {},
   "outputs": [],
   "source": [
    "brownDict = {cat: nltk.corpus.brown.words(categories=cat) for cat in brownCategories}"
   ]
  },
  {
   "cell_type": "code",
   "execution_count": 30,
   "metadata": {},
   "outputs": [
    {
     "data": {
      "text/plain": [
       "dict_keys(['adventure', 'belles_lettres', 'editorial', 'fiction', 'government', 'hobbies', 'humor', 'learned', 'lore', 'mystery', 'news', 'religion', 'reviews', 'romance', 'science_fiction'])"
      ]
     },
     "execution_count": 30,
     "metadata": {},
     "output_type": "execute_result"
    }
   ],
   "source": [
    "brownDict.keys()"
   ]
  },
  {
   "cell_type": "code",
   "execution_count": 32,
   "metadata": {},
   "outputs": [
    {
     "data": {
      "text/plain": [
       "['Now', 'that', 'he', 'knew', 'himself', 'to', 'be', ...]"
      ]
     },
     "execution_count": 32,
     "metadata": {},
     "output_type": "execute_result"
    }
   ],
   "source": [
    "brownDict['science_fiction'][:200]"
   ]
  },
  {
   "cell_type": "code",
   "execution_count": 57,
   "metadata": {},
   "outputs": [],
   "source": [
    "brownFreqs = {cat: nltk.FreqDist([w.lower() for w in words]) for cat, words in brownDict.items()}"
   ]
  },
  {
   "cell_type": "code",
   "execution_count": 58,
   "metadata": {},
   "outputs": [],
   "source": [
    "fruit = {'apples': 5, 'bananas': 10}"
   ]
  },
  {
   "cell_type": "code",
   "execution_count": 59,
   "metadata": {},
   "outputs": [
    {
     "data": {
      "text/plain": [
       "dict_items([('apples', 5), ('bananas', 10)])"
      ]
     },
     "execution_count": 59,
     "metadata": {},
     "output_type": "execute_result"
    }
   ],
   "source": [
    "fruit.items()"
   ]
  },
  {
   "cell_type": "code",
   "execution_count": 107,
   "metadata": {},
   "outputs": [],
   "source": [
    "brownDf = pd.DataFrame(brownFreqs)"
   ]
  },
  {
   "cell_type": "code",
   "execution_count": 108,
   "metadata": {},
   "outputs": [],
   "source": [
    "brownDf = brownDf.fillna(0)"
   ]
  },
  {
   "cell_type": "code",
   "execution_count": 109,
   "metadata": {},
   "outputs": [
    {
     "data": {
      "text/plain": [
       "<matplotlib.axes._subplots.AxesSubplot at 0x7f4be6fce2d0>"
      ]
     },
     "execution_count": 109,
     "metadata": {},
     "output_type": "execute_result"
    },
    {
     "data": {
      "image/png": "[encoded data removed]",
      "text/plain": [
       "<Figure size 432x288 with 1 Axes>"
      ]
     },
     "metadata": {
      "needs_background": "light"
     },
     "output_type": "display_data"
    }
   ],
   "source": [
    "brownDf.loc[['walk']].T.plot(kind='bar')"
   ]
  },
  {
   "cell_type": "code",
   "execution_count": 110,
   "metadata": {},
   "outputs": [],
   "source": [
    "brownSents = {cat: nltk.corpus.brown.sents(categories=cat) for cat in brownCategories}"
   ]
  },
  {
   "cell_type": "markdown",
   "metadata": {},
   "source": [
    "## Distinctive words\n",
    "\n",
    "Keywords, MDW (most distinctive words). \n"
   ]
  },
  {
   "cell_type": "code",
   "execution_count": 111,
   "metadata": {},
   "outputs": [],
   "source": [
    "brownDf = brownDf.T"
   ]
  },
  {
   "cell_type": "code",
   "execution_count": 112,
   "metadata": {},
   "outputs": [],
   "source": [
    "brownWords = {cat: nltk.corpus.brown.words(categories=cat) for cat in brownCategories}"
   ]
  },
  {
   "cell_type": "code",
   "execution_count": 113,
   "metadata": {},
   "outputs": [],
   "source": [
    "brownLengths = {cat: len(words) for cat, words in brownWords.items()} "
   ]
  },
  {
   "cell_type": "code",
   "execution_count": 114,
   "metadata": {},
   "outputs": [
    {
     "data": {
      "text/plain": [
       "{'adventure': 69342,\n",
       " 'belles_lettres': 173096,\n",
       " 'editorial': 61604,\n",
       " 'fiction': 68488,\n",
       " 'government': 70117,\n",
       " 'hobbies': 82345,\n",
       " 'humor': 21695,\n",
       " 'learned': 181888,\n",
       " 'lore': 110299,\n",
       " 'mystery': 57169,\n",
       " 'news': 100554,\n",
       " 'religion': 39399,\n",
       " 'reviews': 40704,\n",
       " 'romance': 70022,\n",
       " 'science_fiction': 14470}"
      ]
     },
     "execution_count": 114,
     "metadata": {},
     "output_type": "execute_result"
    }
   ],
   "source": [
    "brownLengths"
   ]
  },
  {
   "cell_type": "code",
   "execution_count": 115,
   "metadata": {},
   "outputs": [
    {
     "data": {
      "text/plain": [
       "dict_values([69342, 173096, 61604, 68488, 70117, 82345, 21695, 181888, 110299, 57169, 100554, 39399, 40704, 70022, 14470])"
      ]
     },
     "execution_count": 115,
     "metadata": {},
     "output_type": "execute_result"
    }
   ],
   "source": [
    "brownLengths.values()"
   ]
  },
  {
   "cell_type": "code",
   "execution_count": 120,
   "metadata": {},
   "outputs": [],
   "source": [
    "justValues = list(brownLengths.values())"
   ]
  },
  {
   "cell_type": "code",
   "execution_count": 125,
   "metadata": {},
   "outputs": [],
   "source": [
    "brownProps = brownDf.T / justValues"
   ]
  },
  {
   "cell_type": "code",
   "execution_count": 129,
   "metadata": {},
   "outputs": [],
   "source": [
    "brownProps = brownProps.T"
   ]
  },
  {
   "cell_type": "code",
   "execution_count": 131,
   "metadata": {},
   "outputs": [
    {
     "data": {
      "text/plain": [
       "dan           0.000025\n",
       "morgan        0.000053\n",
       "told          0.000402\n",
       "himself       0.000592\n",
       "he            0.009285\n",
       "                ...   \n",
       "cow-man       0.000005\n",
       "cow-people    0.000005\n",
       "kindliness    0.000005\n",
       "commingled    0.000005\n",
       "b'dikkat's    0.000005\n",
       "Length: 49815, dtype: float64"
      ]
     },
     "execution_count": 131,
     "metadata": {},
     "output_type": "execute_result"
    }
   ],
   "source": [
    "brownProps.mean()"
   ]
  },
  {
   "cell_type": "code",
   "execution_count": 132,
   "metadata": {},
   "outputs": [],
   "source": [
    "brownAverages = brownProps.mean()"
   ]
  },
  {
   "cell_type": "code",
   "execution_count": 133,
   "metadata": {},
   "outputs": [],
   "source": [
    "adventureWords = (brownProps.loc['adventure'] - brownAverages)"
   ]
  },
  {
   "cell_type": "code",
   "execution_count": 135,
   "metadata": {},
   "outputs": [
    {
     "data": {
      "text/plain": [
       ".        0.014329\n",
       "he       0.009218\n",
       "his      0.005819\n",
       "''       0.005284\n",
       "``       0.005279\n",
       "was      0.004094\n",
       "i        0.004058\n",
       "her      0.003650\n",
       "had      0.003458\n",
       "him      0.003345\n",
       "you      0.002726\n",
       "!        0.002712\n",
       "she      0.002491\n",
       "?        0.002321\n",
       "said     0.002111\n",
       "out      0.001925\n",
       "me       0.001817\n",
       "back     0.001421\n",
       "up       0.001419\n",
       "down     0.001354\n",
       "my       0.001280\n",
       "man      0.001235\n",
       "it       0.001100\n",
       "they     0.001096\n",
       "eyes     0.000991\n",
       "into     0.000975\n",
       "on       0.000853\n",
       "were     0.000794\n",
       "like     0.000765\n",
       "a        0.000705\n",
       "face     0.000701\n",
       "get      0.000688\n",
       "then     0.000680\n",
       "got      0.000671\n",
       "door     0.000657\n",
       "over     0.000656\n",
       "off      0.000643\n",
       "could    0.000631\n",
       "saw      0.000623\n",
       "don't    0.000618\n",
       "dtype: float64"
      ]
     },
     "execution_count": 135,
     "metadata": {},
     "output_type": "execute_result"
    }
   ],
   "source": [
    "adventureWords.sort_values(ascending=False).head(40)"
   ]
  },
  {
   "cell_type": "code",
   "execution_count": 136,
   "metadata": {},
   "outputs": [],
   "source": [
    "romanceWords = (brownProps.loc['romance'] - brownAverages)"
   ]
  },
  {
   "cell_type": "code",
   "execution_count": 139,
   "metadata": {},
   "outputs": [
    {
     "data": {
      "text/plain": [
       "the     -0.015067\n",
       "of      -0.011891\n",
       "is      -0.005538\n",
       "in      -0.003887\n",
       "by      -0.002482\n",
       "are     -0.002298\n",
       "as      -0.001730\n",
       "this    -0.001660\n",
       "for     -0.001659\n",
       "has     -0.001610\n",
       ")       -0.001565\n",
       "(       -0.001517\n",
       "which   -0.001326\n",
       "will    -0.001109\n",
       ";       -0.001093\n",
       "be      -0.001057\n",
       "or      -0.001000\n",
       "may     -0.000885\n",
       "an      -0.000812\n",
       "we      -0.000770\n",
       ":       -0.000749\n",
       "these   -0.000748\n",
       "new     -0.000744\n",
       "such    -0.000741\n",
       "our     -0.000654\n",
       "from    -0.000586\n",
       "to      -0.000585\n",
       "who     -0.000580\n",
       "also    -0.000578\n",
       "their   -0.000561\n",
       "state   -0.000556\n",
       "on      -0.000555\n",
       "more    -0.000547\n",
       "its     -0.000514\n",
       "most    -0.000513\n",
       "than    -0.000504\n",
       "many    -0.000468\n",
       "other   -0.000416\n",
       "af      -0.000408\n",
       "two     -0.000403\n",
       "dtype: float64"
      ]
     },
     "execution_count": 139,
     "metadata": {},
     "output_type": "execute_result"
    }
   ],
   "source": [
    "romanceWords.sort_values(ascending=True).head(40)"
   ]
  },
  {
   "cell_type": "code",
   "execution_count": null,
   "metadata": {},
   "outputs": [],
   "source": []
  }
 ],
 "metadata": {
  "kernelspec": {
   "display_name": "Python 3",
   "language": "python",
   "name": "python3"
  },
  "language_info": {
   "codemirror_mode": {
    "name": "ipython",
    "version": 3
   },
   "file_extension": ".py",
   "mimetype": "text/x-python",
   "name": "python",
   "nbconvert_exporter": "python",
   "pygments_lexer": "ipython3",
   "version": "3.7.6"
  }
 },
 "nbformat": 4,
 "nbformat_minor": 4
}
