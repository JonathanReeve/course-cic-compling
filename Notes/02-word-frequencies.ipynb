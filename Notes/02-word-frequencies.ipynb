{
 "cells": [
  {
   "cell_type": "code",
   "execution_count": 1,
   "metadata": {},
   "outputs": [],
   "source": [
    "import nltk"
   ]
  },
  {
   "cell_type": "code",
   "execution_count": 55,
   "metadata": {},
   "outputs": [],
   "source": [
    "from nltk.book import *\n",
    "import pandas as pd\n",
    "import requests"
   ]
  },
  {
   "cell_type": "code",
   "execution_count": 5,
   "metadata": {
    "collapsed": true,
    "jupyter": {
     "outputs_hidden": true
    }
   },
   "outputs": [
    {
     "data": {
      "text/plain": [
       "['_CONTEXT_RE',\n",
       " '_COPY_TOKENS',\n",
       " '__class__',\n",
       " '__delattr__',\n",
       " '__dict__',\n",
       " '__dir__',\n",
       " '__doc__',\n",
       " '__eq__',\n",
       " '__format__',\n",
       " '__ge__',\n",
       " '__getattribute__',\n",
       " '__getitem__',\n",
       " '__gt__',\n",
       " '__hash__',\n",
       " '__init__',\n",
       " '__init_subclass__',\n",
       " '__le__',\n",
       " '__len__',\n",
       " '__lt__',\n",
       " '__module__',\n",
       " '__ne__',\n",
       " '__new__',\n",
       " '__reduce__',\n",
       " '__reduce_ex__',\n",
       " '__repr__',\n",
       " '__setattr__',\n",
       " '__sizeof__',\n",
       " '__str__',\n",
       " '__subclasshook__',\n",
       " '__unicode__',\n",
       " '__weakref__',\n",
       " '_context',\n",
       " '_train_default_ngram_lm',\n",
       " 'collocation_list',\n",
       " 'collocations',\n",
       " 'common_contexts',\n",
       " 'concordance',\n",
       " 'concordance_list',\n",
       " 'count',\n",
       " 'dispersion_plot',\n",
       " 'findall',\n",
       " 'generate',\n",
       " 'index',\n",
       " 'name',\n",
       " 'plot',\n",
       " 'readability',\n",
       " 'similar',\n",
       " 'tokens',\n",
       " 'unicode_repr',\n",
       " 'vocab']"
      ]
     },
     "execution_count": 5,
     "metadata": {},
     "output_type": "execute_result"
    }
   ],
   "source": [
    "dir(text4) "
   ]
  },
  {
   "cell_type": "code",
   "execution_count": 6,
   "metadata": {},
   "outputs": [],
   "source": [
    "inauguralFreqs = nltk.FreqDist(text4) "
   ]
  },
  {
   "cell_type": "code",
   "execution_count": 7,
   "metadata": {},
   "outputs": [],
   "source": [
    "# Manually\n",
    "# counts = {}\n",
    "# for word in text4: \n",
    "#     if word not in counts: \n",
    "#         counts[word] = 1\n",
    "#     else: \n",
    "#         counts[word] += 1 "
   ]
  },
  {
   "cell_type": "code",
   "execution_count": null,
   "metadata": {},
   "outputs": [],
   "source": [
    "inauguralFreqs"
   ]
  },
  {
   "cell_type": "markdown",
   "metadata": {},
   "source": [
    "Tokens :: individual instances of a word\n",
    "Types :: words themselves, not instances\n",
    "\n",
    "\"the the the the the that's all folks\" \n",
    "tokens = 5 \"the\", 3 others = 8 tokens\n",
    "types = 4 types\n",
    "\n",
    "set() function: takes a list and returns unique items. \n",
    "\n",
    "calculate types with set() on a list\n",
    "\n",
    "samples = types\n",
    "outcomes = tokens"
   ]
  },
  {
   "cell_type": "code",
   "execution_count": 8,
   "metadata": {},
   "outputs": [],
   "source": [
    "porkyWords = \"the the the the the that's all folks\".split()"
   ]
  },
  {
   "cell_type": "code",
   "execution_count": 9,
   "metadata": {},
   "outputs": [
    {
     "data": {
      "text/plain": [
       "['the', 'the', 'the', 'the', 'the', \"that's\", 'all', 'folks']"
      ]
     },
     "execution_count": 9,
     "metadata": {},
     "output_type": "execute_result"
    }
   ],
   "source": [
    "porkyWords"
   ]
  },
  {
   "cell_type": "code",
   "execution_count": 10,
   "metadata": {},
   "outputs": [
    {
     "data": {
      "text/plain": [
       "8"
      ]
     },
     "execution_count": 10,
     "metadata": {},
     "output_type": "execute_result"
    }
   ],
   "source": [
    "len(porkyWords) "
   ]
  },
  {
   "cell_type": "code",
   "execution_count": 11,
   "metadata": {},
   "outputs": [
    {
     "data": {
      "text/plain": [
       "4"
      ]
     },
     "execution_count": 11,
     "metadata": {},
     "output_type": "execute_result"
    }
   ],
   "source": [
    "len(set(porkyWords))"
   ]
  },
  {
   "cell_type": "markdown",
   "metadata": {},
   "source": [
    "Type/token ratio: \n",
    " - often a caculation of vocabulary\n",
    " - really sensitive to word count\n",
    " - only useful if you're comparing of same number of words across texts"
   ]
  },
  {
   "cell_type": "code",
   "execution_count": 27,
   "metadata": {},
   "outputs": [],
   "source": [
    "inauguralFileIDs = nltk.corpus.inaugural.fileids()\n",
    "inauguralWords = [nltk.corpus.inaugural.words(fileid) for fileid in inauguralFileIDs]\n",
    "inauguralFreqs = [nltk.FreqDist(words) for words in inauguralWords]"
   ]
  },
  {
   "cell_type": "code",
   "execution_count": null,
   "metadata": {},
   "outputs": [],
   "source": [
    "# The long way \n",
    "inauguralWords = []\n",
    "for fileid in inauguralFileIDs: \n",
    "    words = nltk.corpus.inaugural.words(fileid)\n",
    "    inauguralWords.append(words)"
   ]
  },
  {
   "cell_type": "code",
   "execution_count": 18,
   "metadata": {},
   "outputs": [
    {
     "data": {
      "text/plain": [
       "58"
      ]
     },
     "execution_count": 18,
     "metadata": {},
     "output_type": "execute_result"
    }
   ],
   "source": [
    "len(inauguralWords)"
   ]
  },
  {
   "cell_type": "code",
   "execution_count": 19,
   "metadata": {},
   "outputs": [],
   "source": [
    "washingtonFreqs = FreqDist(inauguralWords[0]) "
   ]
  },
  {
   "cell_type": "code",
   "execution_count": 29,
   "metadata": {},
   "outputs": [],
   "source": [
    "def frequencyInAddress(word):\n",
    "    counts = [dist[word] for dist in inauguralFreqs]\n",
    "    return counts"
   ]
  },
  {
   "cell_type": "code",
   "execution_count": 45,
   "metadata": {},
   "outputs": [],
   "source": [
    "wordsAndCounts = {word: frequencyInAddress(word) for word in ['immigrants', 'immigration']} "
   ]
  },
  {
   "cell_type": "code",
   "execution_count": 51,
   "metadata": {},
   "outputs": [
    {
     "data": {
      "text/plain": [
       "<matplotlib.axes._subplots.AxesSubplot at 0x7f42cf128e10>"
      ]
     },
     "execution_count": 51,
     "metadata": {},
     "output_type": "execute_result"
    },
    {
     "data": {
      "image/png": "[encoded data removed]",
      "text/plain": [
       "<Figure size 576x288 with 1 Axes>"
      ]
     },
     "metadata": {
      "needs_background": "light"
     },
     "output_type": "display_data"
    }
   ],
   "source": [
    "pd.DataFrame(wordsAndCounts, index=inauguralFileIDs).plot(kind='bar', figsize=(8, 4))"
   ]
  },
  {
   "cell_type": "code",
   "execution_count": 35,
   "metadata": {},
   "outputs": [
    {
     "data": {
      "text/plain": [
       "<matplotlib.axes._subplots.AxesSubplot at 0x7f42cfc33050>"
      ]
     },
     "execution_count": 35,
     "metadata": {},
     "output_type": "execute_result"
    },
    {
     "data": {
      "image/png": "[encoded data removed]",
      "text/plain": [
       "<Figure size 432x288 with 1 Axes>"
      ]
     },
     "metadata": {
      "needs_background": "light"
     },
     "output_type": "display_data"
    }
   ],
   "source": [
    "pd.Series(frequencyInAddress('America'), index=inauguralFileIDs).plot(kind='bar', figsize=())"
   ]
  },
  {
   "cell_type": "markdown",
   "metadata": {},
   "source": [
    "# Make your own NLTK.Text() object"
   ]
  },
  {
   "cell_type": "code",
   "execution_count": 52,
   "metadata": {},
   "outputs": [
    {
     "data": {
      "text/plain": [
       "['the', 'the', 'the', 'the']"
      ]
     },
     "execution_count": 52,
     "metadata": {},
     "output_type": "execute_result"
    }
   ],
   "source": [
    "\"the the the the\".split()"
   ]
  },
  {
   "cell_type": "code",
   "execution_count": 54,
   "metadata": {},
   "outputs": [],
   "source": [
    "# nltk.word_tokenize() # Takes a string, and returns tokens (~~words)"
   ]
  },
  {
   "cell_type": "code",
   "execution_count": 56,
   "metadata": {},
   "outputs": [],
   "source": [
    "dublinersRaw = open('/home/jon/2814-0.txt').read()"
   ]
  },
  {
   "cell_type": "code",
   "execution_count": 58,
   "metadata": {},
   "outputs": [
    {
     "data": {
      "text/plain": [
       "str"
      ]
     },
     "execution_count": 58,
     "metadata": {},
     "output_type": "execute_result"
    }
   ],
   "source": [
    "type(dublinersRaw)"
   ]
  },
  {
   "cell_type": "code",
   "execution_count": 59,
   "metadata": {},
   "outputs": [],
   "source": [
    "dublinersTokens = nltk.word_tokenize(dublinersRaw)"
   ]
  },
  {
   "cell_type": "code",
   "execution_count": null,
   "metadata": {},
   "outputs": [],
   "source": [
    "'world,' 'world' "
   ]
  },
  {
   "cell_type": "code",
   "execution_count": 61,
   "metadata": {},
   "outputs": [],
   "source": [
    "dublinersText = nltk.Text(dublinersTokens)"
   ]
  },
  {
   "cell_type": "code",
   "execution_count": 66,
   "metadata": {},
   "outputs": [
    {
     "data": {
      "image/png": "[encoded data removed]",
      "text/plain": [
       "<Figure size 432x288 with 1 Axes>"
      ]
     },
     "metadata": {
      "needs_background": "light"
     },
     "output_type": "display_data"
    }
   ],
   "source": [
    "dublinersText.dispersion_plot(['priest'])"
   ]
  },
  {
   "cell_type": "code",
   "execution_count": 67,
   "metadata": {},
   "outputs": [],
   "source": [
    "dublinersFreqs = nltk.FreqDist(dublinersText)"
   ]
  },
  {
   "cell_type": "code",
   "execution_count": 68,
   "metadata": {},
   "outputs": [
    {
     "data": {
      "text/plain": [
       "16"
      ]
     },
     "execution_count": 68,
     "metadata": {},
     "output_type": "execute_result"
    }
   ],
   "source": [
    "dublinersFreqs['priest']"
   ]
  },
  {
   "cell_type": "code",
   "execution_count": 72,
   "metadata": {},
   "outputs": [
    {
     "data": {
      "text/plain": [
       "0"
      ]
     },
     "execution_count": 72,
     "metadata": {},
     "output_type": "execute_result"
    }
   ],
   "source": [
    "dublinersRaw.count(' priest?')"
   ]
  },
  {
   "cell_type": "code",
   "execution_count": 76,
   "metadata": {},
   "outputs": [],
   "source": [
    "sistersStart = dublinersRaw.index('THE SISTERS')"
   ]
  },
  {
   "cell_type": "code",
   "execution_count": 77,
   "metadata": {},
   "outputs": [],
   "source": [
    "encounterStart = dublinersRaw.index('AN ENCOUNTER')"
   ]
  },
  {
   "cell_type": "code",
   "execution_count": 78,
   "metadata": {
    "collapsed": true,
    "jupyter": {
     "outputs_hidden": true
    }
   },
   "outputs": [
    {
     "data": {
      "text/plain": [
       "'THE SISTERS\\n\\n\\nThere was no hope for him this time: it was the third stroke. Night\\nafter night I had passed the house (it was vacation time) and studied\\nthe lighted square of window: and night after night I had found it\\nlighted in the same way, faintly and evenly. If he was dead, I thought,\\nI would see the reflection of candles on the darkened blind for I knew\\nthat two candles must be set at the head of a corpse. He had often said\\nto me: “I am not long for this world,” and I had thought his words\\nidle. Now I knew they were true. Every night as I gazed up at the\\nwindow I said softly to myself the word paralysis. It had always\\nsounded strangely in my ears, like the word gnomon in the Euclid and\\nthe word simony in the Catechism. But now it sounded to me like the\\nname of some maleficent and sinful being. It filled me with fear, and\\nyet I longed to be nearer to it and to look upon its deadly work.\\n\\nOld Cotter was sitting at the fire, smoking, when I came downstairs to\\nsupper. While my aunt was ladling out my stirabout he said, as if\\nreturning to some former remark of his:\\n\\n“No, I wouldn’t say he was exactly ... but there was something queer\\n... there was something uncanny about him. I’ll tell you my\\nopinion....”\\n\\nHe began to puff at his pipe, no doubt arranging his opinion in his\\nmind. Tiresome old fool! When we knew him first he used to be rather\\ninteresting, talking of faints and worms; but I soon grew tired of him\\nand his endless stories about the distillery.\\n\\n“I have my own theory about it,” he said. “I think it was one of those\\n... peculiar cases.... But it’s hard to say....”\\n\\nHe began to puff again at his pipe without giving us his theory. My\\nuncle saw me staring and said to me:\\n\\n“Well, so your old friend is gone, you’ll be sorry to hear.”\\n\\n“Who?” said I.\\n\\n“Father Flynn.”\\n\\n“Is he dead?”\\n\\n“Mr Cotter here has just told us. He was passing by the house.”\\n\\nI knew that I was under observation so I continued eating as if the\\nnews had not interested me. My uncle explained to old Cotter.\\n\\n“The youngster and he were great friends. The old chap taught him a\\ngreat deal, mind you; and they say he had a great wish for him.”\\n\\n“God have mercy on his soul,” said my aunt piously.\\n\\nOld Cotter looked at me for a while. I felt that his little beady black\\neyes were examining me but I would not satisfy him by looking up from\\nmy plate. He returned to his pipe and finally spat rudely into the\\ngrate.\\n\\n“I wouldn’t like children of mine,” he said, “to have too much to say\\nto a man like that.”\\n\\n“How do you mean, Mr Cotter?” asked my aunt.\\n\\n“What I mean is,” said old Cotter, “it’s bad for children. My idea is:\\nlet a young lad run about and play with young lads of his own age and\\nnot be.... Am I right, Jack?”\\n\\n“That’s my principle, too,” said my uncle. “Let him learn to box his\\ncorner. That’s what I’m always saying to that Rosicrucian there: take\\nexercise. Why, when I was a nipper every morning of my life I had a\\ncold bath, winter and summer. And that’s what stands to me now.\\nEducation is all very fine and large.... Mr Cotter might take a pick of\\nthat leg mutton,” he added to my aunt.\\n\\n“No, no, not for me,” said old Cotter.\\n\\nMy aunt brought the dish from the safe and put it on the table.\\n\\n“But why do you think it’s not good for children, Mr Cotter?” she\\nasked.\\n\\n“It’s bad for children,” said old Cotter, “because their minds are so\\nimpressionable. When children see things like that, you know, it has an\\neffect....”\\n\\nI crammed my mouth with stirabout for fear I might give utterance to my\\nanger. Tiresome old red-nosed imbecile!\\n\\nIt was late when I fell asleep. Though I was angry with old Cotter for\\nalluding to me as a child, I puzzled my head to extract meaning from\\nhis unfinished sentences. In the dark of my room I imagined that I saw\\nagain the heavy grey face of the paralytic. I drew the blankets over my\\nhead and tried to think of Christmas. But the grey face still followed\\nme. It murmured; and I understood that it desired to confess something.\\nI felt my soul receding into some pleasant and vicious region; and\\nthere again I found it waiting for me. It began to confess to me in a\\nmurmuring voice and I wondered why it smiled continually and why the\\nlips were so moist with spittle. But then I remembered that it had died\\nof paralysis and I felt that I too was smiling feebly as if to absolve\\nthe simoniac of his sin.\\n\\nThe next morning after breakfast I went down to look at the little\\nhouse in Great Britain Street. It was an unassuming shop, registered\\nunder the vague name of _Drapery_. The drapery consisted mainly of\\nchildren’s bootees and umbrellas; and on ordinary days a notice used to\\nhang in the window, saying: _Umbrellas Re-covered_. No notice was\\nvisible now for the shutters were up. A crape bouquet was tied to the\\ndoor-knocker with ribbon. Two poor women and a telegram boy were\\nreading the card pinned on the crape. I also approached and read:\\n\\n     July 1st, 1895\\n     The Rev. James Flynn (formerly of S. Catherine’s\\n     Church, Meath Street), aged sixty-five years.\\n     _R. I. P._\\n\\nThe reading of the card persuaded me that he was dead and I was\\ndisturbed to find myself at check. Had he not been dead I would have\\ngone into the little dark room behind the shop to find him sitting in\\nhis arm-chair by the fire, nearly smothered in his great-coat. Perhaps\\nmy aunt would have given me a packet of High Toast for him and this\\npresent would have roused him from his stupefied doze. It was always I\\nwho emptied the packet into his black snuff-box for his hands trembled\\ntoo much to allow him to do this without spilling half the snuff about\\nthe floor. Even as he raised his large trembling hand to his nose\\nlittle clouds of smoke dribbled through his fingers over the front of\\nhis coat. It may have been these constant showers of snuff which gave\\nhis ancient priestly garments their green faded look for the red\\nhandkerchief, blackened, as it always was, with the snuff-stains of a\\nweek, with which he tried to brush away the fallen grains, was quite\\ninefficacious.\\n\\nI wished to go in and look at him but I had not the courage to knock. I\\nwalked away slowly along the sunny side of the street, reading all the\\ntheatrical advertisements in the shop-windows as I went. I found it\\nstrange that neither I nor the day seemed in a mourning mood and I felt\\neven annoyed at discovering in myself a sensation of freedom as if I\\nhad been freed from something by his death. I wondered at this for, as\\nmy uncle had said the night before, he had taught me a great deal. He\\nhad studied in the Irish college in Rome and he had taught me to\\npronounce Latin properly. He had told me stories about the catacombs\\nand about Napoleon Bonaparte, and he had explained to me the meaning of\\nthe different ceremonies of the Mass and of the different vestments\\nworn by the priest. Sometimes he had amused himself by putting\\ndifficult questions to me, asking me what one should do in certain\\ncircumstances or whether such and such sins were mortal or venial or\\nonly imperfections. His questions showed me how complex and mysterious\\nwere certain institutions of the Church which I had always regarded as\\nthe simplest acts. The duties of the priest towards the Eucharist and\\ntowards the secrecy of the confessional seemed so grave to me that I\\nwondered how anybody had ever found in himself the courage to undertake\\nthem; and I was not surprised when he told me that the fathers of the\\nChurch had written books as thick as the _Post Office Directory_ and as\\nclosely printed as the law notices in the newspaper, elucidating all\\nthese intricate questions. Often when I thought of this I could make no\\nanswer or only a very foolish and halting one upon which he used to\\nsmile and nod his head twice or thrice. Sometimes he used to put me\\nthrough the responses of the Mass which he had made me learn by heart;\\nand, as I pattered, he used to smile pensively and nod his head, now\\nand then pushing huge pinches of snuff up each nostril alternately.\\nWhen he smiled he used to uncover his big discoloured teeth and let his\\ntongue lie upon his lower lip—a habit which had made me feel uneasy in\\nthe beginning of our acquaintance before I knew him well.\\n\\nAs I walked along in the sun I remembered old Cotter’s words and tried\\nto remember what had happened afterwards in the dream. I remembered\\nthat I had noticed long velvet curtains and a swinging lamp of antique\\nfashion. I felt that I had been very far away, in some land where the\\ncustoms were strange—in Persia, I thought.... But I could not remember\\nthe end of the dream.\\n\\nIn the evening my aunt took me with her to visit the house of mourning.\\nIt was after sunset; but the window-panes of the houses that looked to\\nthe west reflected the tawny gold of a great bank of clouds. Nannie\\nreceived us in the hall; and, as it would have been unseemly to have\\nshouted at her, my aunt shook hands with her for all. The old woman\\npointed upwards interrogatively and, on my aunt’s nodding, proceeded to\\ntoil up the narrow staircase before us, her bowed head being scarcely\\nabove the level of the banister-rail. At the first landing she stopped\\nand beckoned us forward encouragingly towards the open door of the\\ndead-room. My aunt went in and the old woman, seeing that I hesitated\\nto enter, began to beckon to me again repeatedly with her hand.\\n\\nI went in on tiptoe. The room through the lace end of the blind was\\nsuffused with dusky golden light amid which the candles looked like\\npale thin flames. He had been coffined. Nannie gave the lead and we\\nthree knelt down at the foot of the bed. I pretended to pray but I\\ncould not gather my thoughts because the old woman’s mutterings\\ndistracted me. I noticed how clumsily her skirt was hooked at the back\\nand how the heels of her cloth boots were trodden down all to one side.\\nThe fancy came to me that the old priest was smiling as he lay there in\\nhis coffin.\\n\\nBut no. When we rose and went up to the head of the bed I saw that he\\nwas not smiling. There he lay, solemn and copious, vested as for the\\naltar, his large hands loosely retaining a chalice. His face was very\\ntruculent, grey and massive, with black cavernous nostrils and circled\\nby a scanty white fur. There was a heavy odour in the room—the flowers.\\n\\nWe blessed ourselves and came away. In the little room downstairs we\\nfound Eliza seated in his arm-chair in state. I groped my way towards\\nmy usual chair in the corner while Nannie went to the sideboard and\\nbrought out a decanter of sherry and some wine-glasses. She set these\\non the table and invited us to take a little glass of wine. Then, at\\nher sister’s bidding, she filled out the sherry into the glasses and\\npassed them to us. She pressed me to take some cream crackers also but\\nI declined because I thought I would make too much noise eating them.\\nShe seemed to be somewhat disappointed at my refusal and went over\\nquietly to the sofa where she sat down behind her sister. No one spoke:\\nwe all gazed at the empty fireplace.\\n\\nMy aunt waited until Eliza sighed and then said:\\n\\n“Ah, well, he’s gone to a better world.”\\n\\nEliza sighed again and bowed her head in assent. My aunt fingered the\\nstem of her wine-glass before sipping a little.\\n\\n“Did he ... peacefully?” she asked.\\n\\n“Oh, quite peacefully, ma’am,” said Eliza. “You couldn’t tell when the\\nbreath went out of him. He had a beautiful death, God be praised.”\\n\\n“And everything...?”\\n\\n“Father O’Rourke was in with him a Tuesday and anointed him and\\nprepared him and all.”\\n\\n“He knew then?”\\n\\n“He was quite resigned.”\\n\\n“He looks quite resigned,” said my aunt.\\n\\n“That’s what the woman we had in to wash him said. She said he just\\nlooked as if he was asleep, he looked that peaceful and resigned. No\\none would think he’d make such a beautiful corpse.”\\n\\n“Yes, indeed,” said my aunt.\\n\\nShe sipped a little more from her glass and said:\\n\\n“Well, Miss Flynn, at any rate it must be a great comfort for you to\\nknow that you did all you could for him. You were both very kind to\\nhim, I must say.”\\n\\nEliza smoothed her dress over her knees.\\n\\n“Ah, poor James!” she said. “God knows we done all we could, as poor as\\nwe are—we wouldn’t see him want anything while he was in it.”\\n\\nNannie had leaned her head against the sofa-pillow and seemed about to\\nfall asleep.\\n\\n“There’s poor Nannie,” said Eliza, looking at her, “she’s wore out. All\\nthe work we had, she and me, getting in the woman to wash him and then\\nlaying him out and then the coffin and then arranging about the Mass in\\nthe chapel. Only for Father O’Rourke I don’t know what we’d have done\\nat all. It was him brought us all them flowers and them two\\ncandlesticks out of the chapel and wrote out the notice for the\\n_Freeman’s General_ and took charge of all the papers for the cemetery\\nand poor James’s insurance.”\\n\\n“Wasn’t that good of him?” said my aunt.\\n\\nEliza closed her eyes and shook her head slowly.\\n\\n“Ah, there’s no friends like the old friends,” she said, “when all is\\nsaid and done, no friends that a body can trust.”\\n\\n“Indeed, that’s true,” said my aunt. “And I’m sure now that he’s gone\\nto his eternal reward he won’t forget you and all your kindness to\\nhim.”\\n\\n“Ah, poor James!” said Eliza. “He was no great trouble to us. You\\nwouldn’t hear him in the house any more than now. Still, I know he’s\\ngone and all to that....”\\n\\n“It’s when it’s all over that you’ll miss him,” said my aunt.\\n\\n“I know that,” said Eliza. “I won’t be bringing him in his cup of\\nbeef-tea any more, nor you, ma’am, sending him his snuff. Ah, poor\\nJames!”\\n\\nShe stopped, as if she were communing with the past and then said\\nshrewdly:\\n\\n“Mind you, I noticed there was something queer coming over him\\nlatterly. Whenever I’d bring in his soup to him there I’d find him with\\nhis breviary fallen to the floor, lying back in the chair and his mouth\\nopen.”\\n\\nShe laid a finger against her nose and frowned: then she continued:\\n\\n“But still and all he kept on saying that before the summer was over\\nhe’d go out for a drive one fine day just to see the old house again\\nwhere we were all born down in Irishtown and take me and Nannie with\\nhim. If we could only get one of them new-fangled carriages that makes\\nno noise that Father O’Rourke told him about, them with the rheumatic\\nwheels, for the day cheap—he said, at Johnny Rush’s over the way there\\nand drive out the three of us together of a Sunday evening. He had his\\nmind set on that.... Poor James!”\\n\\n“The Lord have mercy on his soul!” said my aunt.\\n\\nEliza took out her handkerchief and wiped her eyes with it. Then she\\nput it back again in her pocket and gazed into the empty grate for some\\ntime without speaking.\\n\\n“He was too scrupulous always,” she said. “The duties of the priesthood\\nwas too much for him. And then his life was, you might say, crossed.”\\n\\n“Yes,” said my aunt. “He was a disappointed man. You could see that.”\\n\\nA silence took possession of the little room and, under cover of it, I\\napproached the table and tasted my sherry and then returned quietly to\\nmy chair in the corner. Eliza seemed to have fallen into a deep revery.\\nWe waited respectfully for her to break the silence: and after a long\\npause she said slowly:\\n\\n“It was that chalice he broke.... That was the beginning of it. Of\\ncourse, they say it was all right, that it contained nothing, I mean.\\nBut still.... They say it was the boy’s fault. But poor James was so\\nnervous, God be merciful to him!”\\n\\n“And was that it?” said my aunt. “I heard something....”\\n\\nEliza nodded.\\n\\n“That affected his mind,” she said. “After that he began to mope by\\nhimself, talking to no one and wandering about by himself. So one night\\nhe was wanted for to go on a call and they couldn’t find him anywhere.\\nThey looked high up and low down; and still they couldn’t see a sight\\nof him anywhere. So then the clerk suggested to try the chapel. So then\\nthey got the keys and opened the chapel and the clerk and Father\\nO’Rourke and another priest that was there brought in a light for to\\nlook for him.... And what do you think but there he was, sitting up by\\nhimself in the dark in his confession-box, wide-awake and laughing-like\\nsoftly to himself?”\\n\\nShe stopped suddenly as if to listen. I too listened; but there was no\\nsound in the house: and I knew that the old priest was lying still in\\nhis coffin as we had seen him, solemn and truculent in death, an idle\\nchalice on his breast.\\n\\nEliza resumed:\\n\\n“Wide-awake and laughing-like to himself.... So then, of course, when\\nthey saw that, that made them think that there was something gone wrong\\nwith him....”\\n\\n\\n\\n\\n'"
      ]
     },
     "execution_count": 78,
     "metadata": {},
     "output_type": "execute_result"
    }
   ],
   "source": [
    "dublinersRaw[sistersStart:encounterStart]"
   ]
  },
  {
   "cell_type": "code",
   "execution_count": 86,
   "metadata": {},
   "outputs": [],
   "source": [
    "def typeTokenRatio(words): \n",
    "    return len(set(words)) / len(words)\n",
    "\n",
    "ttrs = [typeTokenRatio(words[:2000]) for words in inauguralWords]"
   ]
  },
  {
   "cell_type": "code",
   "execution_count": 87,
   "metadata": {},
   "outputs": [
    {
     "data": {
      "text/plain": [
       "<matplotlib.axes._subplots.AxesSubplot at 0x7f42d4d0c990>"
      ]
     },
     "execution_count": 87,
     "metadata": {},
     "output_type": "execute_result"
    },
    {
     "data": {
      "image/png": "[encoded data removed]",
      "text/plain": [
       "<Figure size 576x288 with 1 Axes>"
      ]
     },
     "metadata": {
      "needs_background": "light"
     },
     "output_type": "display_data"
    }
   ],
   "source": [
    "pd.Series(ttrs, index=inauguralFileIDs).plot(kind='bar', figsize=(8,4))"
   ]
  },
  {
   "cell_type": "code",
   "execution_count": 90,
   "metadata": {},
   "outputs": [
    {
     "data": {
      "text/plain": [
       "0.37"
      ]
     },
     "execution_count": 90,
     "metadata": {},
     "output_type": "execute_result"
    }
   ],
   "source": [
    "typeTokenRatio(dublinersTokens[:2000])"
   ]
  },
  {
   "cell_type": "code",
   "execution_count": 96,
   "metadata": {
    "collapsed": true,
    "jupyter": {
     "outputs_hidden": true
    }
   },
   "outputs": [
    {
     "data": {
      "text/plain": [
       "['Fellow',\n",
       " '-',\n",
       " 'Citizens',\n",
       " 'Senate',\n",
       " ':',\n",
       " 'Among',\n",
       " 'vicissitudes',\n",
       " 'incident',\n",
       " 'life',\n",
       " 'filled',\n",
       " 'greater',\n",
       " 'anxieties',\n",
       " 'notification',\n",
       " 'transmitted',\n",
       " 'received',\n",
       " '14th',\n",
       " 'month',\n",
       " 'summoned',\n",
       " 'Country',\n",
       " 'hear',\n",
       " 'veneration',\n",
       " 'had',\n",
       " 'chosen',\n",
       " 'fondest',\n",
       " 'predilection',\n",
       " 'flattering',\n",
       " 'hopes',\n",
       " 'decision',\n",
       " 'asylum',\n",
       " 'declining',\n",
       " 'years',\n",
       " '--',\n",
       " 'dear',\n",
       " 'addition',\n",
       " 'habit',\n",
       " 'inclination',\n",
       " 'frequent',\n",
       " 'interruptions',\n",
       " 'health',\n",
       " 'gradual',\n",
       " 'waste',\n",
       " 'committed',\n",
       " 'time',\n",
       " 'other',\n",
       " 'magnitude',\n",
       " 'difficulty',\n",
       " 'called',\n",
       " 'sufficient',\n",
       " 'awaken',\n",
       " 'wisest',\n",
       " 'experienced',\n",
       " 'her',\n",
       " 'distrustful',\n",
       " 'scrutiny',\n",
       " 'overwhelm',\n",
       " 'despondence',\n",
       " '(',\n",
       " 'inheriting',\n",
       " 'inferior',\n",
       " 'endowments',\n",
       " 'unpracticed',\n",
       " 'duties',\n",
       " 'civil',\n",
       " ')',\n",
       " 'conscious',\n",
       " 'deficiencies',\n",
       " 'conflict',\n",
       " 'emotions',\n",
       " 'aver',\n",
       " 'faithful',\n",
       " 'study',\n",
       " 'collect',\n",
       " 'appreciation',\n",
       " 'circumstance',\n",
       " 'affected',\n",
       " 'All',\n",
       " 'hope',\n",
       " 'if',\n",
       " 'executing',\n",
       " 'task',\n",
       " 'much',\n",
       " 'swayed',\n",
       " 'grateful',\n",
       " 'remembrance',\n",
       " 'instances',\n",
       " 'affectionate',\n",
       " 'sensibility',\n",
       " 'transcendent',\n",
       " 'proof',\n",
       " 'thence',\n",
       " 'little',\n",
       " 'consulted',\n",
       " 'incapacity',\n",
       " 'disinclination',\n",
       " 'weighty',\n",
       " 'untried',\n",
       " 'cares',\n",
       " 'before',\n",
       " 'error',\n",
       " 'palliated',\n",
       " 'motives',\n",
       " 'mislead',\n",
       " 'consequences',\n",
       " 'judged',\n",
       " 'partiality',\n",
       " 'originated',\n",
       " 'Such',\n",
       " 'obedience',\n",
       " 'summons',\n",
       " 'repaired',\n",
       " 'would',\n",
       " 'improper',\n",
       " 'omit',\n",
       " 'act',\n",
       " 'fervent',\n",
       " 'supplications',\n",
       " 'Almighty',\n",
       " 'Being',\n",
       " 'universe',\n",
       " 'presides',\n",
       " 'councils',\n",
       " 'nations',\n",
       " 'aids',\n",
       " 'supply',\n",
       " 'human',\n",
       " 'defect',\n",
       " 'benediction',\n",
       " 'consecrate',\n",
       " 'instituted',\n",
       " 'essential',\n",
       " 'purposes',\n",
       " 'enable',\n",
       " 'instrument',\n",
       " 'employed',\n",
       " 'execute',\n",
       " 'functions',\n",
       " 'allotted',\n",
       " 'charge',\n",
       " 'tendering',\n",
       " 'homage',\n",
       " 'Great',\n",
       " 'Author',\n",
       " 'expresses',\n",
       " 'large',\n",
       " 'either',\n",
       " 'No',\n",
       " 'bound',\n",
       " 'acknowledge',\n",
       " 'adore',\n",
       " 'Invisible',\n",
       " 'Hand',\n",
       " 'conducts',\n",
       " 'affairs',\n",
       " 'men',\n",
       " 'Every',\n",
       " 'step',\n",
       " 'advanced',\n",
       " 'character',\n",
       " 'independent',\n",
       " 'seems',\n",
       " 'distinguished',\n",
       " 'token',\n",
       " 'agency',\n",
       " 'important',\n",
       " 'revolution',\n",
       " 'accomplished',\n",
       " 'tranquil',\n",
       " 'voluntary',\n",
       " 'consent',\n",
       " 'many',\n",
       " 'distinct',\n",
       " 'resulted',\n",
       " 'compared',\n",
       " 'means',\n",
       " 'governments',\n",
       " 'return',\n",
       " 'pious',\n",
       " 'gratitude',\n",
       " 'along',\n",
       " 'anticipation',\n",
       " 'blessings',\n",
       " 'past',\n",
       " 'seem',\n",
       " 'presage',\n",
       " 'These',\n",
       " 'reflections',\n",
       " 'arising',\n",
       " 'out',\n",
       " 'crisis',\n",
       " 'forced',\n",
       " 'strongly',\n",
       " 'mind',\n",
       " 'suppressed',\n",
       " 'You',\n",
       " 'join',\n",
       " 'thinking',\n",
       " 'none',\n",
       " 'proceedings',\n",
       " 'new',\n",
       " 'auspiciously',\n",
       " 'commence',\n",
       " 'By',\n",
       " 'establishing',\n",
       " 'made',\n",
       " 'President',\n",
       " '\"',\n",
       " 'recommend',\n",
       " 'consideration',\n",
       " 'he',\n",
       " 'judge',\n",
       " '.\"',\n",
       " 'The',\n",
       " 'now',\n",
       " 'meet',\n",
       " 'acquit',\n",
       " 'entering',\n",
       " 'further',\n",
       " 'refer',\n",
       " 'constitutional',\n",
       " 'charter',\n",
       " 'assembled',\n",
       " 'defining',\n",
       " 'powers',\n",
       " 'designates',\n",
       " 'attention',\n",
       " 'consistent',\n",
       " 'congenial',\n",
       " 'feelings',\n",
       " 'actuate',\n",
       " 'substitute',\n",
       " 'place',\n",
       " 'recommendation',\n",
       " 'tribute',\n",
       " 'due',\n",
       " 'talents',\n",
       " 'rectitude',\n",
       " 'patriotism',\n",
       " 'adorn',\n",
       " 'characters',\n",
       " 'selected',\n",
       " 'devise',\n",
       " 'adopt',\n",
       " 'honorable',\n",
       " 'behold',\n",
       " 'surest',\n",
       " 'pledges',\n",
       " 'side',\n",
       " 'local',\n",
       " 'prejudices',\n",
       " 'attachments',\n",
       " 'separate',\n",
       " 'party',\n",
       " 'animosities',\n",
       " 'misdirect',\n",
       " 'comprehensive',\n",
       " 'equal',\n",
       " 'eye',\n",
       " 'watch',\n",
       " 'assemblage',\n",
       " 'interests',\n",
       " 'another',\n",
       " 'foundation',\n",
       " 'our',\n",
       " 'national',\n",
       " 'laid',\n",
       " 'pure',\n",
       " 'principles',\n",
       " 'morality',\n",
       " 'preeminence',\n",
       " 'exemplified',\n",
       " 'attributes',\n",
       " 'win',\n",
       " 'affections',\n",
       " 'command',\n",
       " 'respect',\n",
       " 'world',\n",
       " 'dwell',\n",
       " 'prospect',\n",
       " 'satisfaction',\n",
       " 'ardent',\n",
       " 'inspire',\n",
       " 'truth',\n",
       " 'thoroughly',\n",
       " 'exists',\n",
       " 'economy',\n",
       " 'course',\n",
       " 'indissoluble',\n",
       " 'virtue',\n",
       " 'advantage',\n",
       " 'genuine',\n",
       " 'maxims',\n",
       " 'honest',\n",
       " 'magnanimous',\n",
       " 'solid',\n",
       " 'rewards',\n",
       " 'prosperity',\n",
       " 'felicity',\n",
       " 'we',\n",
       " 'persuaded',\n",
       " 'propitious',\n",
       " 'smiles',\n",
       " 'expected',\n",
       " 'disregards',\n",
       " 'eternal',\n",
       " 'right',\n",
       " 'itself',\n",
       " 'ordained',\n",
       " 'preservation',\n",
       " 'sacred',\n",
       " 'fire',\n",
       " 'liberty',\n",
       " 'destiny',\n",
       " 'republican',\n",
       " 'model',\n",
       " 'justly',\n",
       " 'considered',\n",
       " 'perhaps',\n",
       " 'deeply',\n",
       " 'finally',\n",
       " 'staked',\n",
       " 'experiment',\n",
       " 'entrusted',\n",
       " 'hands',\n",
       " 'Besides',\n",
       " 'ordinary',\n",
       " 'submitted',\n",
       " 'care',\n",
       " 'remain',\n",
       " 'judgment',\n",
       " 'decide',\n",
       " 'exercise',\n",
       " 'occasional',\n",
       " 'power',\n",
       " 'delegated',\n",
       " 'fifth',\n",
       " 'Constitution',\n",
       " 'juncture',\n",
       " 'objections',\n",
       " 'urged',\n",
       " 'against',\n",
       " 'degree',\n",
       " 'inquietude',\n",
       " 'birth',\n",
       " 'Instead',\n",
       " 'undertaking',\n",
       " 'recommendations',\n",
       " 'guided',\n",
       " 'lights',\n",
       " 'derived',\n",
       " 'again',\n",
       " 'give',\n",
       " 'way',\n",
       " 'entire',\n",
       " 'discernment',\n",
       " 'pursuit',\n",
       " 'whilst',\n",
       " 'carefully',\n",
       " 'avoid',\n",
       " 'alteration',\n",
       " 'endanger',\n",
       " 'benefits',\n",
       " 'effective',\n",
       " 'await',\n",
       " 'lessons',\n",
       " 'experience',\n",
       " 'reverence',\n",
       " 'characteristic',\n",
       " 'rights',\n",
       " 'freemen',\n",
       " 'regard',\n",
       " 'harmony',\n",
       " 'sufficiently',\n",
       " 'question',\n",
       " 'impregnably',\n",
       " 'fortified',\n",
       " 'latter',\n",
       " 'safely',\n",
       " 'advantageously',\n",
       " 'promoted',\n",
       " 'To',\n",
       " 'foregoing',\n",
       " 'observations',\n",
       " 'add',\n",
       " 'properly',\n",
       " 'addressed',\n",
       " 'concerns',\n",
       " 'therefore',\n",
       " 'brief',\n",
       " 'possible',\n",
       " 'When',\n",
       " 'honored',\n",
       " 'call',\n",
       " 'service',\n",
       " 'then',\n",
       " 'eve',\n",
       " 'arduous',\n",
       " 'struggle',\n",
       " 'light',\n",
       " 'contemplated',\n",
       " 'required',\n",
       " 'should',\n",
       " 'renounce',\n",
       " 'compensation',\n",
       " 'From',\n",
       " 'resolution',\n",
       " 'instance',\n",
       " 'departed',\n",
       " 'still',\n",
       " 'produced',\n",
       " 'decline',\n",
       " 'inapplicable',\n",
       " 'any',\n",
       " 'personal',\n",
       " 'emoluments',\n",
       " 'indispensably',\n",
       " 'included',\n",
       " 'permanent',\n",
       " 'provision',\n",
       " 'accordingly',\n",
       " 'pray',\n",
       " 'estimates',\n",
       " 'am',\n",
       " 'placed',\n",
       " 'during',\n",
       " 'continuance',\n",
       " 'limited',\n",
       " 'actual',\n",
       " 'expenditures',\n",
       " 'thought',\n",
       " 'require',\n",
       " 'Having',\n",
       " 'thus',\n",
       " 'imparted',\n",
       " 'awakened',\n",
       " 'occasion',\n",
       " 'brings',\n",
       " 'us',\n",
       " 'together',\n",
       " 'take',\n",
       " 'leave',\n",
       " 'resorting',\n",
       " 'once',\n",
       " 'benign',\n",
       " 'Parent',\n",
       " 'Human',\n",
       " 'Race',\n",
       " 'supplication',\n",
       " 'He',\n",
       " 'pleased',\n",
       " 'favor',\n",
       " 'deliberating',\n",
       " 'perfect',\n",
       " 'tranquillity',\n",
       " 'dispositions',\n",
       " 'deciding',\n",
       " 'unparalleled',\n",
       " 'unanimity',\n",
       " 'form',\n",
       " 'security',\n",
       " 'advancement',\n",
       " 'divine',\n",
       " 'blessing',\n",
       " 'equally',\n",
       " 'conspicuous',\n",
       " 'enlarged',\n",
       " 'temperate',\n",
       " 'consultations',\n",
       " 'wise',\n",
       " 'depend']"
      ]
     },
     "execution_count": 96,
     "metadata": {},
     "output_type": "execute_result"
    }
   ],
   "source": [
    "washingtonFreqs.hapaxes()"
   ]
  },
  {
   "cell_type": "code",
   "execution_count": null,
   "metadata": {},
   "outputs": [],
   "source": []
  }
 ],
 "metadata": {
  "kernelspec": {
   "display_name": "Python 3",
   "language": "python",
   "name": "python3"
  },
  "language_info": {
   "codemirror_mode": {
    "name": "ipython",
    "version": 3
   },
   "file_extension": ".py",
   "mimetype": "text/x-python",
   "name": "python",
   "nbconvert_exporter": "python",
   "pygments_lexer": "ipython3",
   "version": "3.7.6"
  }
 },
 "nbformat": 4,
 "nbformat_minor": 4
}
